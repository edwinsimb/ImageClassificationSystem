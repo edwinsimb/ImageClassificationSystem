{
  "nbformat": 4,
  "nbformat_minor": 0,
  "metadata": {
    "colab": {
      "provenance": []
    },
    "kernelspec": {
      "name": "python3",
      "display_name": "Python 3"
    },
    "language_info": {
      "name": "python"
    }
  },
  "cells": [
    {
      "cell_type": "code",
      "source": [
        "import cv2\n",
        "import os\n",
        "import numpy as np\n",
        "import matplotlib.pyplot as plt\n",
        "\n",
        "import tensorflow as tf\n",
        "from tensorflow.keras import layers, models"
      ],
      "metadata": {
        "id": "VA1u6P6ACtO4"
      },
      "execution_count": null,
      "outputs": []
    },
    {
      "cell_type": "code",
      "source": [
        "from google.colab import drive\n",
        "drive.mount('/content/drive')"
      ],
      "metadata": {
        "colab": {
          "base_uri": "https://localhost:8080/"
        },
        "id": "q5vv3uuvbJYN",
        "outputId": "4257c0bf-5a43-4643-c70e-a0762e1ee8d2"
      },
      "execution_count": null,
      "outputs": [
        {
          "output_type": "stream",
          "name": "stdout",
          "text": [
            "Mounted at /content/drive\n"
          ]
        }
      ]
    },
    {
      "cell_type": "markdown",
      "source": [
        "## Entrenamiento del modelo de clasificación de imágenes usando una red neuronal convolucional"
      ],
      "metadata": {
        "id": "fXNjyPc9QDNF"
      }
    },
    {
      "cell_type": "markdown",
      "source": [
        "Se definen algunos diccionarios que serán usados posterioremente"
      ],
      "metadata": {
        "id": "T57oJxjlOMd6"
      }
    },
    {
      "cell_type": "code",
      "source": [
        "dictLabelY = {\n",
        "    'Juice' : 0,\n",
        "    'Milk' : 1,\n",
        "    'Oat-Milk' : 2,\n",
        "    'Oatghurt' : 3,\n",
        "    'Sour-Cream' : 4,\n",
        "    'Sour-Milk' : 5,\n",
        "    'Soy-Milk' : 6,\n",
        "    'Soyghurt' : 7,\n",
        "    'Yoghurt' : 8\n",
        "    }"
      ],
      "metadata": {
        "id": "FhrJhRX6CtNM"
      },
      "execution_count": 19,
      "outputs": []
    },
    {
      "cell_type": "markdown",
      "source": [
        "Se crea una función que lea todas las imágenes contenidas en una carpeta y se les asigna su respectiva etiqueta."
      ],
      "metadata": {
        "id": "FqyPsVprOUyn"
      }
    },
    {
      "cell_type": "code",
      "source": [
        "def cargar_imagenes(directorio_principal, dictLabelY):\n",
        "    lista_imagenes = []\n",
        "    lista_etiquetas = []\n",
        "\n",
        "    for carpeta, subcarpetas, archivos in os.walk(directorio_principal):\n",
        "        for archivo in archivos:\n",
        "            if archivo.endswith(('.png', '.jpg', '.jpeg', '.bmp')):\n",
        "                ruta_imagen = os.path.join(carpeta, archivo)\n",
        "                # Carga la imagen usando OpenCV\n",
        "                imagen = cv2.imread(ruta_imagen)\n",
        "                imagen_resized = cv2.resize(imagen,(180,180))\n",
        "\n",
        "                ruta = ruta_imagen.replace(\"\\\\\", \"/\").split(\"/\")\n",
        "                etiqueta = ruta[8]\n",
        "                if imagen is not None:\n",
        "                    # Almacena el nombre y la imagen en la lista\n",
        "                    lista_imagenes.append(imagen_resized)\n",
        "                    lista_etiquetas.append(etiqueta)\n",
        "\n",
        "    image_array = np.array(lista_imagenes)\n",
        "    X = image_array/255.0\n",
        "\n",
        "    lista_reetiquetas = [dictLabelY[itLabel] for itLabel in lista_etiquetas]\n",
        "    Y = np.array(lista_reetiquetas)\n",
        "\n",
        "    return X, Y"
      ],
      "metadata": {
        "id": "l9IkGuj3CtLs"
      },
      "execution_count": null,
      "outputs": []
    },
    {
      "cell_type": "markdown",
      "source": [
        "Se carga las imágenes correspondientes para el conjunto de train, test y validation."
      ],
      "metadata": {
        "id": "aactM6TFOc1f"
      }
    },
    {
      "cell_type": "code",
      "source": [
        "X_train, y_train = cargar_imagenes(\"/content/drive/MyDrive/1. Máster AI aplicada - UHem/Sistemas Cognitivos Artificiales/data/train\", dictLabelY=dictLabelY)\n",
        "X_test, y_test = cargar_imagenes(\"/content/drive/MyDrive/1. Máster AI aplicada - UHem/Sistemas Cognitivos Artificiales/data/test\", dictLabelY=dictLabelY)\n",
        "X_val, y_val = cargar_imagenes(\"/content/drive/MyDrive/1. Máster AI aplicada - UHem/Sistemas Cognitivos Artificiales/data/val\", dictLabelY=dictLabelY)"
      ],
      "metadata": {
        "id": "HI7czb5CCtI_"
      },
      "execution_count": null,
      "outputs": []
    },
    {
      "cell_type": "markdown",
      "source": [
        "Se modifican la estructura de la variables dependiente de cada conjunto de datos."
      ],
      "metadata": {
        "id": "ezFUOE1oOlqu"
      }
    },
    {
      "cell_type": "code",
      "source": [
        "y_train = tf.keras.utils.to_categorical(y_train, num_classes=len(dictLabelY))\n",
        "y_test = tf.keras.utils.to_categorical(y_test, num_classes=len(dictLabelY))\n",
        "y_val = tf.keras.utils.to_categorical(y_val, num_classes=len(dictLabelY))"
      ],
      "metadata": {
        "id": "PcaeBjsulBd2"
      },
      "execution_count": null,
      "outputs": []
    },
    {
      "cell_type": "markdown",
      "source": [
        "Se crea un *augmentation* de las imágenes para mejorar las métricas de rendimiento del modelo."
      ],
      "metadata": {
        "id": "MYsfjcUhOs9Y"
      }
    },
    {
      "cell_type": "code",
      "source": [
        "data_augmentation = models.Sequential(\n",
        "  [\n",
        "    layers.RandomFlip(\"horizontal\",  input_shape=(180, 180, 3)),\n",
        "    layers.RandomRotation(0.5),\n",
        "    layers.RandomZoom(0.3),\n",
        "  ]\n",
        ")"
      ],
      "metadata": {
        "colab": {
          "base_uri": "https://localhost:8080/"
        },
        "id": "aQBqmyS04Jss",
        "outputId": "b3734458-c317-4e46-bed5-43176a81e790"
      },
      "execution_count": null,
      "outputs": [
        {
          "output_type": "stream",
          "name": "stderr",
          "text": [
            "/usr/local/lib/python3.10/dist-packages/keras/src/layers/preprocessing/tf_data_layer.py:19: UserWarning: Do not pass an `input_shape`/`input_dim` argument to a layer. When using Sequential models, prefer using an `Input(shape)` object as the first layer in the model instead.\n",
            "  super().__init__(**kwargs)\n"
          ]
        }
      ]
    },
    {
      "cell_type": "markdown",
      "source": [
        "Se define el modelo de red neuronal convolucional para la clasificación de imágenes bajo la siguiente estructura"
      ],
      "metadata": {
        "id": "0rLFOv73O7Pe"
      }
    },
    {
      "cell_type": "code",
      "source": [
        "model = models.Sequential([\n",
        "    data_augmentation,\n",
        "\n",
        "    layers.Conv2D(filters = 86 , kernel_size = (3,3),activation = 'relu',input_shape= (180,180,3)),\n",
        "    layers.MaxPool2D((2,2)),\n",
        "    layers.Conv2D(filters = 43 , kernel_size = (3,3),activation = 'relu'),\n",
        "    layers.MaxPool2D((2,2)),\n",
        "    layers.Conv2D(filters = 43 , kernel_size = (3,3),activation = 'relu'),\n",
        "    layers.MaxPool2D((2,2)),\n",
        "\n",
        "    layers.Dropout(0.2),\n",
        "\n",
        "    layers.Flatten(),\n",
        "    layers.Dense(86, activation = 'relu'),\n",
        "    layers.Dropout(0.5),\n",
        "    layers.Dense(len(dictLabelY), activation = 'softmax'),\n",
        "    ])"
      ],
      "metadata": {
        "colab": {
          "base_uri": "https://localhost:8080/"
        },
        "id": "Nsk-nhASgT4h",
        "outputId": "6ca2b725-0b17-4e1f-8d0b-76c2754a576d"
      },
      "execution_count": null,
      "outputs": [
        {
          "output_type": "stream",
          "name": "stderr",
          "text": [
            "/usr/local/lib/python3.10/dist-packages/keras/src/layers/convolutional/base_conv.py:107: UserWarning: Do not pass an `input_shape`/`input_dim` argument to a layer. When using Sequential models, prefer using an `Input(shape)` object as the first layer in the model instead.\n",
            "  super().__init__(activity_regularizer=activity_regularizer, **kwargs)\n"
          ]
        }
      ]
    },
    {
      "cell_type": "code",
      "source": [
        "# Compilación del modelo\n",
        "model.compile(\n",
        "optimizer = 'adam',\n",
        "    loss= 'categorical_crossentropy',\n",
        "    metrics = ['accuracy']\n",
        ")"
      ],
      "metadata": {
        "id": "MXXtVXzqCtEj"
      },
      "execution_count": null,
      "outputs": []
    },
    {
      "cell_type": "code",
      "execution_count": null,
      "metadata": {
        "colab": {
          "base_uri": "https://localhost:8080/"
        },
        "id": "Hfe8uZ1ICfod",
        "outputId": "7c8dd051-0546-4891-8ef3-de2388b31418"
      },
      "outputs": [
        {
          "output_type": "stream",
          "name": "stdout",
          "text": [
            "Epoch 1/20\n",
            "\u001b[1m27/27\u001b[0m \u001b[32m━━━━━━━━━━━━━━━━━━━━\u001b[0m\u001b[37m\u001b[0m \u001b[1m138s\u001b[0m 5s/step - accuracy: 0.2348 - loss: 2.0044 - val_accuracy: 0.3367 - val_loss: 1.7811\n",
            "Epoch 2/20\n",
            "\u001b[1m27/27\u001b[0m \u001b[32m━━━━━━━━━━━━━━━━━━━━\u001b[0m\u001b[37m\u001b[0m \u001b[1m155s\u001b[0m 6s/step - accuracy: 0.3268 - loss: 1.7778 - val_accuracy: 0.3508 - val_loss: 1.6914\n",
            "Epoch 3/20\n",
            "\u001b[1m27/27\u001b[0m \u001b[32m━━━━━━━━━━━━━━━━━━━━\u001b[0m\u001b[37m\u001b[0m \u001b[1m201s\u001b[0m 6s/step - accuracy: 0.3566 - loss: 1.6789 - val_accuracy: 0.3675 - val_loss: 1.5042\n",
            "Epoch 4/20\n",
            "\u001b[1m27/27\u001b[0m \u001b[32m━━━━━━━━━━━━━━━━━━━━\u001b[0m\u001b[37m\u001b[0m \u001b[1m134s\u001b[0m 5s/step - accuracy: 0.4206 - loss: 1.5327 - val_accuracy: 0.4917 - val_loss: 1.3885\n",
            "Epoch 5/20\n",
            "\u001b[1m27/27\u001b[0m \u001b[32m━━━━━━━━━━━━━━━━━━━━\u001b[0m\u001b[37m\u001b[0m \u001b[1m143s\u001b[0m 5s/step - accuracy: 0.4780 - loss: 1.4179 - val_accuracy: 0.5711 - val_loss: 1.1789\n",
            "Epoch 6/20\n",
            "\u001b[1m27/27\u001b[0m \u001b[32m━━━━━━━━━━━━━━━━━━━━\u001b[0m\u001b[37m\u001b[0m \u001b[1m141s\u001b[0m 5s/step - accuracy: 0.5400 - loss: 1.2393 - val_accuracy: 0.6082 - val_loss: 1.0193\n",
            "Epoch 7/20\n",
            "\u001b[1m27/27\u001b[0m \u001b[32m━━━━━━━━━━━━━━━━━━━━\u001b[0m\u001b[37m\u001b[0m \u001b[1m140s\u001b[0m 5s/step - accuracy: 0.5998 - loss: 1.0977 - val_accuracy: 0.6172 - val_loss: 1.0504\n",
            "Epoch 8/20\n",
            "\u001b[1m27/27\u001b[0m \u001b[32m━━━━━━━━━━━━━━━━━━━━\u001b[0m\u001b[37m\u001b[0m \u001b[1m135s\u001b[0m 5s/step - accuracy: 0.6303 - loss: 1.0147 - val_accuracy: 0.6428 - val_loss: 1.0230\n",
            "Epoch 9/20\n",
            "\u001b[1m27/27\u001b[0m \u001b[32m━━━━━━━━━━━━━━━━━━━━\u001b[0m\u001b[37m\u001b[0m \u001b[1m141s\u001b[0m 5s/step - accuracy: 0.5905 - loss: 1.1888 - val_accuracy: 0.6159 - val_loss: 0.9543\n",
            "Epoch 10/20\n",
            "\u001b[1m27/27\u001b[0m \u001b[32m━━━━━━━━━━━━━━━━━━━━\u001b[0m\u001b[37m\u001b[0m \u001b[1m133s\u001b[0m 5s/step - accuracy: 0.6553 - loss: 0.9570 - val_accuracy: 0.6543 - val_loss: 0.9351\n",
            "Epoch 11/20\n",
            "\u001b[1m27/27\u001b[0m \u001b[32m━━━━━━━━━━━━━━━━━━━━\u001b[0m\u001b[37m\u001b[0m \u001b[1m142s\u001b[0m 5s/step - accuracy: 0.6449 - loss: 0.9925 - val_accuracy: 0.6735 - val_loss: 0.8973\n",
            "Epoch 12/20\n",
            "\u001b[1m27/27\u001b[0m \u001b[32m━━━━━━━━━━━━━━━━━━━━\u001b[0m\u001b[37m\u001b[0m \u001b[1m141s\u001b[0m 5s/step - accuracy: 0.6823 - loss: 0.8522 - val_accuracy: 0.6812 - val_loss: 0.8156\n",
            "Epoch 13/20\n",
            "\u001b[1m27/27\u001b[0m \u001b[32m━━━━━━━━━━━━━━━━━━━━\u001b[0m\u001b[37m\u001b[0m \u001b[1m148s\u001b[0m 6s/step - accuracy: 0.7091 - loss: 0.7541 - val_accuracy: 0.7004 - val_loss: 0.7845\n",
            "Epoch 14/20\n",
            "\u001b[1m27/27\u001b[0m \u001b[32m━━━━━━━━━━━━━━━━━━━━\u001b[0m\u001b[37m\u001b[0m \u001b[1m131s\u001b[0m 5s/step - accuracy: 0.6926 - loss: 0.8226 - val_accuracy: 0.7055 - val_loss: 0.7563\n",
            "Epoch 15/20\n",
            "\u001b[1m27/27\u001b[0m \u001b[32m━━━━━━━━━━━━━━━━━━━━\u001b[0m\u001b[37m\u001b[0m \u001b[1m133s\u001b[0m 5s/step - accuracy: 0.7457 - loss: 0.6826 - val_accuracy: 0.7618 - val_loss: 0.6489\n",
            "Epoch 16/20\n",
            "\u001b[1m27/27\u001b[0m \u001b[32m━━━━━━━━━━━━━━━━━━━━\u001b[0m\u001b[37m\u001b[0m \u001b[1m140s\u001b[0m 5s/step - accuracy: 0.7437 - loss: 0.6365 - val_accuracy: 0.7746 - val_loss: 0.6332\n",
            "Epoch 17/20\n",
            "\u001b[1m27/27\u001b[0m \u001b[32m━━━━━━━━━━━━━━━━━━━━\u001b[0m\u001b[37m\u001b[0m \u001b[1m140s\u001b[0m 5s/step - accuracy: 0.7565 - loss: 0.6774 - val_accuracy: 0.7798 - val_loss: 0.5955\n",
            "Epoch 18/20\n",
            "\u001b[1m27/27\u001b[0m \u001b[32m━━━━━━━━━━━━━━━━━━━━\u001b[0m\u001b[37m\u001b[0m \u001b[1m145s\u001b[0m 5s/step - accuracy: 0.7469 - loss: 0.6682 - val_accuracy: 0.7836 - val_loss: 0.6100\n",
            "Epoch 19/20\n",
            "\u001b[1m27/27\u001b[0m \u001b[32m━━━━━━━━━━━━━━━━━━━━\u001b[0m\u001b[37m\u001b[0m \u001b[1m129s\u001b[0m 5s/step - accuracy: 0.8116 - loss: 0.5922 - val_accuracy: 0.7823 - val_loss: 0.5859\n",
            "Epoch 20/20\n",
            "\u001b[1m27/27\u001b[0m \u001b[32m━━━━━━━━━━━━━━━━━━━━\u001b[0m\u001b[37m\u001b[0m \u001b[1m132s\u001b[0m 5s/step - accuracy: 0.8060 - loss: 0.6020 - val_accuracy: 0.8182 - val_loss: 0.5447\n"
          ]
        }
      ],
      "source": [
        "# Entrenamiento del modelo\n",
        "history = model.fit(X_train, y_train, epochs = 20, validation_data=(X_test,y_test))"
      ]
    },
    {
      "cell_type": "markdown",
      "source": [
        "Evauación del modelo en los conjuntos de train y test"
      ],
      "metadata": {
        "id": "YZxOzpdAPG92"
      }
    },
    {
      "cell_type": "code",
      "source": [
        "# Evaluación del modelo\n",
        "train_loss, train_accuracy = model.evaluate(X_train,y_train)\n",
        "test_loss, test_accuracy = model.evaluate(X_test,y_test)\n",
        "val_loss, val_accuracy = model.evaluate(X_val,y_val)\n",
        "\n",
        "print(f'Train Accuracy: {train_accuracy:.4f}, Test Accuracy: {test_accuracy:.4f}')"
      ],
      "metadata": {
        "colab": {
          "base_uri": "https://localhost:8080/"
        },
        "id": "At7sHiqLiiYN",
        "outputId": "b68edb8a-0f29-4fc3-d90d-705de556eaba"
      },
      "execution_count": null,
      "outputs": [
        {
          "output_type": "stream",
          "name": "stdout",
          "text": [
            "\u001b[1m27/27\u001b[0m \u001b[32m━━━━━━━━━━━━━━━━━━━━\u001b[0m\u001b[37m\u001b[0m \u001b[1m29s\u001b[0m 1s/step - accuracy: 0.9279 - loss: 0.1813\n",
            "\u001b[1m25/25\u001b[0m \u001b[32m━━━━━━━━━━━━━━━━━━━━\u001b[0m\u001b[37m\u001b[0m \u001b[1m27s\u001b[0m 1s/step - accuracy: 0.7940 - loss: 0.6745\n",
            "\u001b[1m4/4\u001b[0m \u001b[32m━━━━━━━━━━━━━━━━━━━━\u001b[0m\u001b[37m\u001b[0m \u001b[1m4s\u001b[0m 1s/step - accuracy: 0.7058 - loss: 0.7573\n",
            "Train Accuracy: 0.8738, Test Accuracy: 0.8182\n"
          ]
        }
      ]
    },
    {
      "cell_type": "markdown",
      "source": [
        "Se muestra el comportamiento del modelo durante el entrenamiento del modelo con 20 epochs. Y se presenta el *accuracy* y el *loss*"
      ],
      "metadata": {
        "id": "bg85ohbCPMGd"
      }
    },
    {
      "cell_type": "code",
      "source": [
        "# Gráfica de la evolución del modelo\n",
        "plt.figure(figsize=(12, 4))\n",
        "plt.subplot(1, 2, 1)\n",
        "plt.plot(history.history['accuracy'], label='Accuracy (train)')\n",
        "plt.plot(history.history['val_accuracy'], label='Accuracy (test)')\n",
        "plt.title('Model Accuracy')\n",
        "plt.xlabel('Epoch')\n",
        "plt.ylabel('Accuracy')\n",
        "plt.legend()\n",
        "\n",
        "plt.subplot(1, 2, 2)\n",
        "plt.plot(history.history['loss'], label='Loss (train)')\n",
        "plt.plot(history.history['val_loss'], label='Loss (test)')\n",
        "plt.title('Model Loss')\n",
        "plt.xlabel('Epoch')\n",
        "plt.ylabel('Loss')\n",
        "plt.legend()\n",
        "\n",
        "plt.show()"
      ],
      "metadata": {
        "colab": {
          "base_uri": "https://localhost:8080/",
          "height": 410
        },
        "id": "N-1Uu2lliiao",
        "outputId": "7ca565f2-f5bd-4d66-ae7e-dd21da995000"
      },
      "execution_count": null,
      "outputs": [
        {
          "output_type": "display_data",
          "data": {
            "text/plain": [
              "<Figure size 1200x400 with 2 Axes>"
            ],
            "image/png": "[encoded data removed]"
          },
          "metadata": {}
        }
      ]
    },
    {
      "cell_type": "markdown",
      "source": [
        "Se almacena el modelo creado, de manera local, para usarlo en notebooks posteriores. En este caso para el aplicativo diseñado con Streamlit."
      ],
      "metadata": {
        "id": "SJJIkbuXPa5O"
      }
    },
    {
      "cell_type": "code",
      "source": [
        "model.save('mi_modelo.keras')\n",
        "print(\"Modelo guardado en formato SavedModel\")"
      ],
      "metadata": {
        "colab": {
          "base_uri": "https://localhost:8080/"
        },
        "id": "gyjoK1AYFCfU",
        "outputId": "55e70037-c3a5-4621-8736-c0fa823eafa0"
      },
      "execution_count": null,
      "outputs": [
        {
          "output_type": "stream",
          "name": "stdout",
          "text": [
            "Modelo guardado en formato SavedModel\n"
          ]
        }
      ]
    },
    {
      "cell_type": "markdown",
      "source": [
        "Se almacena el modelo creado, en google drive personal, para usarlo en notebooks posteriores. En este caso para el aplicativo diseñado con Streamlit."
      ],
      "metadata": {
        "id": "VP31_ZlIPud2"
      }
    },
    {
      "cell_type": "code",
      "source": [
        "ruta_modelo = '/content/drive/MyDrive/1. Máster AI aplicada - UHem/Sistemas Cognitivos Artificiales/modeloCNNproducts.keras'\n",
        "\n",
        "model.save(ruta_modelo)\n",
        "print(f'Modelo guardado en: {ruta_modelo}')"
      ],
      "metadata": {
        "colab": {
          "base_uri": "https://localhost:8080/"
        },
        "id": "cP6SYJfPAc07",
        "outputId": "9e41de6d-187b-4571-bf93-8b094ec40ff1"
      },
      "execution_count": null,
      "outputs": [
        {
          "output_type": "stream",
          "name": "stdout",
          "text": [
            "Modelo guardado en: /content/drive/MyDrive/1. Máster AI aplicada - UHem/Sistemas Cognitivos Artificiales/modeloCNNproducts.keras\n"
          ]
        }
      ]
    },
    {
      "cell_type": "markdown",
      "source": [
        "## Carga del modelo previamente entrenado para realizar predicciones de nuevas imágenes"
      ],
      "metadata": {
        "id": "YBJguv4fP18j"
      }
    },
    {
      "cell_type": "code",
      "source": [
        "import cv2\n",
        "import os\n",
        "import numpy as np\n",
        "import matplotlib.pyplot as plt\n",
        "\n",
        "import tensorflow as tf\n",
        "from tensorflow.keras import layers, models"
      ],
      "metadata": {
        "id": "ARpKfCLMup_0"
      },
      "execution_count": 3,
      "outputs": []
    },
    {
      "cell_type": "code",
      "source": [
        "from tensorflow.keras.models import load_model\n",
        "modelCNN = load_model('/content/mi_modelo.keras')"
      ],
      "metadata": {
        "id": "y7SW9txwGYji"
      },
      "execution_count": 6,
      "outputs": []
    },
    {
      "cell_type": "markdown",
      "source": [
        "Se definen funciones que ayudan a la carga rápida de las imágenes y predicción de su etiqueta respectiva."
      ],
      "metadata": {
        "id": "b2SZL8I8QY4-"
      }
    },
    {
      "cell_type": "code",
      "source": [
        "def leerImagenPredict(ruta_imagen):\n",
        "    imagen = cv2.imread(ruta_imagen)\n",
        "\n",
        "    if imagen is not None:\n",
        "      imagen_resized = cv2.resize(imagen,(180,180))\n",
        "      image_array = np.array(imagen_resized)\n",
        "      X = image_array/255.0\n",
        "\n",
        "      return X.reshape(1, 180, 180, 3)\n",
        "\n",
        "\n",
        "def obtener_key(diccionario, label):\n",
        "    for key, value in diccionario.items():\n",
        "        if value == label:\n",
        "            return key\n",
        "    return \"Error: La etiqueta no existe en el diccionario.\"\n",
        "\n",
        "obtener_key(dictLabelY, 1)"
      ],
      "metadata": {
        "id": "8TDQ9xqMw0Af"
      },
      "execution_count": 14,
      "outputs": []
    },
    {
      "cell_type": "markdown",
      "source": [
        "Nueva imagen usada para predecirla."
      ],
      "metadata": {
        "id": "txBiAb4UQN2O"
      }
    },
    {
      "cell_type": "code",
      "source": [
        "imgPredict = leerImagenPredict(\"/content/img/Arla-Standard-Milk_005.jpg\")"
      ],
      "metadata": {
        "id": "jRBUDCQtyEdm"
      },
      "execution_count": 15,
      "outputs": []
    },
    {
      "cell_type": "code",
      "source": [
        "# Realizar la predicción\n",
        "predicciones = modelCNN.predict(imgPredict)\n",
        "\n",
        "etiqueta_predicha = np.argmax(predicciones, axis=1)\n",
        "idEtiqueta = etiqueta_predicha[0]\n",
        "etiquetaProdcuto = obtener_key(dictLabelY, idEtiqueta)\n",
        "etiquetaProdcuto"
      ],
      "metadata": {
        "colab": {
          "base_uri": "https://localhost:8080/",
          "height": 53
        },
        "id": "v-xCDrm4yEgH",
        "outputId": "321af748-2fe9-40a0-dd8f-8e571d86e7d1"
      },
      "execution_count": 56,
      "outputs": [
        {
          "output_type": "stream",
          "name": "stdout",
          "text": [
            "\u001b[1m1/1\u001b[0m \u001b[32m━━━━━━━━━━━━━━━━━━━━\u001b[0m\u001b[37m\u001b[0m \u001b[1m0s\u001b[0m 82ms/step\n"
          ]
        },
        {
          "output_type": "execute_result",
          "data": {
            "text/plain": [
              "'Milk'"
            ],
            "application/vnd.google.colaboratory.intrinsic+json": {
              "type": "string"
            }
          },
          "metadata": {},
          "execution_count": 56
        }
      ]
    },
    {
      "cell_type": "markdown",
      "source": [
        "Se muestra la tabla de probabilidades de cada categoría."
      ],
      "metadata": {
        "id": "NPjrggyeQn4W"
      }
    },
    {
      "cell_type": "code",
      "source": [
        "import pandas as pd\n",
        "pd.DataFrame({'Producto' : list(dictLabelY_es.keys()),\n",
        "              'Probabilidad' : predicciones.T.flatten()})"
      ],
      "metadata": {
        "colab": {
          "base_uri": "https://localhost:8080/",
          "height": 331
        },
        "id": "dyiqBNZuLOnY",
        "outputId": "29dcb5d9-0b58-4f68-8043-5ad3a92e252f"
      },
      "execution_count": 50,
      "outputs": [
        {
          "output_type": "execute_result",
          "data": {
            "text/plain": [
              "         Producto  Probabilidad\n",
              "0            Jugo  1.443800e-03\n",
              "1           Leche  9.953145e-01\n",
              "2  Leche de avena  9.683145e-08\n",
              "3  Yogur de avena  4.080133e-04\n",
              "4     Crema agria  3.624214e-05\n",
              "5     Leche agria  8.790812e-08\n",
              "6   Leche de soja  8.296442e-06\n",
              "7   Yogur de soja  1.299992e-06\n",
              "8           Yogur  2.787615e-03"
            ],
            "text/html": [
              "\n",
              "  <div id=\"df-f8dbc720-a1b9-4796-9d13-9f1e3d15c3d1\" class=\"colab-df-container\">\n",
              "    <div>\n",
              "<style scoped>\n",
              "    .dataframe tbody tr th:only-of-type {\n",
              "        vertical-align: middle;\n",
              "    }\n",
              "\n",
              "    .dataframe tbody tr th {\n",
              "        vertical-align: top;\n",
              "    }\n",
              "\n",
              "    .dataframe thead th {\n",
              "        text-align: right;\n",
              "    }\n",
              "</style>\n",
              "<table border=\"1\" class=\"dataframe\">\n",
              "  <thead>\n",
              "    <tr style=\"text-align: right;\">\n",
              "      <th></th>\n",
              "      <th>Producto</th>\n",
              "      <th>Probabilidad</th>\n",
              "    </tr>\n",
              "  </thead>\n",
              "  <tbody>\n",
              "    <tr>\n",
              "      <th>0</th>\n",
              "      <td>Jugo</td>\n",
              "      <td>1.443800e-03</td>\n",
              "    </tr>\n",
              "    <tr>\n",
              "      <th>1</th>\n",
              "      <td>Leche</td>\n",
              "      <td>9.953145e-01</td>\n",
              "    </tr>\n",
              "    <tr>\n",
              "      <th>2</th>\n",
              "      <td>Leche de avena</td>\n",
              "      <td>9.683145e-08</td>\n",
              "    </tr>\n",
              "    <tr>\n",
              "      <th>3</th>\n",
              "      <td>Yogur de avena</td>\n",
              "      <td>4.080133e-04</td>\n",
              "    </tr>\n",
              "    <tr>\n",
              "      <th>4</th>\n",
              "      <td>Crema agria</td>\n",
              "      <td>3.624214e-05</td>\n",
              "    </tr>\n",
              "    <tr>\n",
              "      <th>5</th>\n",
              "      <td>Leche agria</td>\n",
              "      <td>8.790812e-08</td>\n",
              "    </tr>\n",
              "    <tr>\n",
              "      <th>6</th>\n",
              "      <td>Leche de soja</td>\n",
              "      <td>8.296442e-06</td>\n",
              "    </tr>\n",
              "    <tr>\n",
              "      <th>7</th>\n",
              "      <td>Yogur de soja</td>\n",
              "      <td>1.299992e-06</td>\n",
              "    </tr>\n",
              "    <tr>\n",
              "      <th>8</th>\n",
              "      <td>Yogur</td>\n",
              "      <td>2.787615e-03</td>\n",
              "    </tr>\n",
              "  </tbody>\n",
              "</table>\n",
              "</div>\n",
              "    <div class=\"colab-df-buttons\">\n",
              "\n",
              "  <div class=\"colab-df-container\">\n",
              "    <button class=\"colab-df-convert\" onclick=\"convertToInteractive('df-f8dbc720-a1b9-4796-9d13-9f1e3d15c3d1')\"\n",
              "            title=\"Convert this dataframe to an interactive table.\"\n",
              "            style=\"display:none;\">\n",
              "\n",
              "  <svg xmlns=\"http://www.w3.org/2000/svg\" height=\"24px\" viewBox=\"0 -960 960 960\">\n",
              "    <path d=\"M120-120v-720h720v720H120Zm60-500h600v-160H180v160Zm220 220h160v-160H400v160Zm0 220h160v-160H400v160ZM180-400h160v-160H180v160Zm440 0h160v-160H620v160ZM180-180h160v-160H180v160Zm440 0h160v-160H620v160Z\"/>\n",
              "  </svg>\n",
              "    </button>\n",
              "\n",
              "  <style>\n",
              "    .colab-df-container {\n",
              "      display:flex;\n",
              "      gap: 12px;\n",
              "    }\n",
              "\n",
              "    .colab-df-convert {\n",
              "      background-color: #E8F0FE;\n",
              "      border: none;\n",
              "      border-radius: 50%;\n",
              "      cursor: pointer;\n",
              "      display: none;\n",
              "      fill: #1967D2;\n",
              "      height: 32px;\n",
              "      padding: 0 0 0 0;\n",
              "      width: 32px;\n",
              "    }\n",
              "\n",
              "    .colab-df-convert:hover {\n",
              "      background-color: #E2EBFA;\n",
              "      box-shadow: 0px 1px 2px rgba(60, 64, 67, 0.3), 0px 1px 3px 1px rgba(60, 64, 67, 0.15);\n",
              "      fill: #174EA6;\n",
              "    }\n",
              "\n",
              "    .colab-df-buttons div {\n",
              "      margin-bottom: 4px;\n",
              "    }\n",
              "\n",
              "    [theme=dark] .colab-df-convert {\n",
              "      background-color: #3B4455;\n",
              "      fill: #D2E3FC;\n",
              "    }\n",
              "\n",
              "    [theme=dark] .colab-df-convert:hover {\n",
              "      background-color: #434B5C;\n",
              "      box-shadow: 0px 1px 3px 1px rgba(0, 0, 0, 0.15);\n",
              "      filter: drop-shadow(0px 1px 2px rgba(0, 0, 0, 0.3));\n",
              "      fill: #FFFFFF;\n",
              "    }\n",
              "  </style>\n",
              "\n",
              "    <script>\n",
              "      const buttonEl =\n",
              "        document.querySelector('#df-f8dbc720-a1b9-4796-9d13-9f1e3d15c3d1 button.colab-df-convert');\n",
              "      buttonEl.style.display =\n",
              "        google.colab.kernel.accessAllowed ? 'block' : 'none';\n",
              "\n",
              "      async function convertToInteractive(key) {\n",
              "        const element = document.querySelector('#df-f8dbc720-a1b9-4796-9d13-9f1e3d15c3d1');\n",
              "        const dataTable =\n",
              "          await google.colab.kernel.invokeFunction('convertToInteractive',\n",
              "                                                    [key], {});\n",
              "        if (!dataTable) return;\n",
              "\n",
              "        const docLinkHtml = 'Like what you see? Visit the ' +\n",
              "          '<a target=\"_blank\" href=https://colab.research.google.com/notebooks/data_table.ipynb>data table notebook</a>'\n",
              "          + ' to learn more about interactive tables.';\n",
              "        element.innerHTML = '';\n",
              "        dataTable['output_type'] = 'display_data';\n",
              "        await google.colab.output.renderOutput(dataTable, element);\n",
              "        const docLink = document.createElement('div');\n",
              "        docLink.innerHTML = docLinkHtml;\n",
              "        element.appendChild(docLink);\n",
              "      }\n",
              "    </script>\n",
              "  </div>\n",
              "\n",
              "\n",
              "<div id=\"df-65939b60-56f8-41f8-8936-59c444f2b338\">\n",
              "  <button class=\"colab-df-quickchart\" onclick=\"quickchart('df-65939b60-56f8-41f8-8936-59c444f2b338')\"\n",
              "            title=\"Suggest charts\"\n",
              "            style=\"display:none;\">\n",
              "\n",
              "<svg xmlns=\"http://www.w3.org/2000/svg\" height=\"24px\"viewBox=\"0 0 24 24\"\n",
              "     width=\"24px\">\n",
              "    <g>\n",
              "        <path d=\"M19 3H5c-1.1 0-2 .9-2 2v14c0 1.1.9 2 2 2h14c1.1 0 2-.9 2-2V5c0-1.1-.9-2-2-2zM9 17H7v-7h2v7zm4 0h-2V7h2v10zm4 0h-2v-4h2v4z\"/>\n",
              "    </g>\n",
              "</svg>\n",
              "  </button>\n",
              "\n",
              "<style>\n",
              "  .colab-df-quickchart {\n",
              "      --bg-color: #E8F0FE;\n",
              "      --fill-color: #1967D2;\n",
              "      --hover-bg-color: #E2EBFA;\n",
              "      --hover-fill-color: #174EA6;\n",
              "      --disabled-fill-color: #AAA;\n",
              "      --disabled-bg-color: #DDD;\n",
              "  }\n",
              "\n",
              "  [theme=dark] .colab-df-quickchart {\n",
              "      --bg-color: #3B4455;\n",
              "      --fill-color: #D2E3FC;\n",
              "      --hover-bg-color: #434B5C;\n",
              "      --hover-fill-color: #FFFFFF;\n",
              "      --disabled-bg-color: #3B4455;\n",
              "      --disabled-fill-color: #666;\n",
              "  }\n",
              "\n",
              "  .colab-df-quickchart {\n",
              "    background-color: var(--bg-color);\n",
              "    border: none;\n",
              "    border-radius: 50%;\n",
              "    cursor: pointer;\n",
              "    display: none;\n",
              "    fill: var(--fill-color);\n",
              "    height: 32px;\n",
              "    padding: 0;\n",
              "    width: 32px;\n",
              "  }\n",
              "\n",
              "  .colab-df-quickchart:hover {\n",
              "    background-color: var(--hover-bg-color);\n",
              "    box-shadow: 0 1px 2px rgba(60, 64, 67, 0.3), 0 1px 3px 1px rgba(60, 64, 67, 0.15);\n",
              "    fill: var(--button-hover-fill-color);\n",
              "  }\n",
              "\n",
              "  .colab-df-quickchart-complete:disabled,\n",
              "  .colab-df-quickchart-complete:disabled:hover {\n",
              "    background-color: var(--disabled-bg-color);\n",
              "    fill: var(--disabled-fill-color);\n",
              "    box-shadow: none;\n",
              "  }\n",
              "\n",
              "  .colab-df-spinner {\n",
              "    border: 2px solid var(--fill-color);\n",
              "    border-color: transparent;\n",
              "    border-bottom-color: var(--fill-color);\n",
              "    animation:\n",
              "      spin 1s steps(1) infinite;\n",
              "  }\n",
              "\n",
              "  @keyframes spin {\n",
              "    0% {\n",
              "      border-color: transparent;\n",
              "      border-bottom-color: var(--fill-color);\n",
              "      border-left-color: var(--fill-color);\n",
              "    }\n",
              "    20% {\n",
              "      border-color: transparent;\n",
              "      border-left-color: var(--fill-color);\n",
              "      border-top-color: var(--fill-color);\n",
              "    }\n",
              "    30% {\n",
              "      border-color: transparent;\n",
              "      border-left-color: var(--fill-color);\n",
              "      border-top-color: var(--fill-color);\n",
              "      border-right-color: var(--fill-color);\n",
              "    }\n",
              "    40% {\n",
              "      border-color: transparent;\n",
              "      border-right-color: var(--fill-color);\n",
              "      border-top-color: var(--fill-color);\n",
              "    }\n",
              "    60% {\n",
              "      border-color: transparent;\n",
              "      border-right-color: var(--fill-color);\n",
              "    }\n",
              "    80% {\n",
              "      border-color: transparent;\n",
              "      border-right-color: var(--fill-color);\n",
              "      border-bottom-color: var(--fill-color);\n",
              "    }\n",
              "    90% {\n",
              "      border-color: transparent;\n",
              "      border-bottom-color: var(--fill-color);\n",
              "    }\n",
              "  }\n",
              "</style>\n",
              "\n",
              "  <script>\n",
              "    async function quickchart(key) {\n",
              "      const quickchartButtonEl =\n",
              "        document.querySelector('#' + key + ' button');\n",
              "      quickchartButtonEl.disabled = true;  // To prevent multiple clicks.\n",
              "      quickchartButtonEl.classList.add('colab-df-spinner');\n",
              "      try {\n",
              "        const charts = await google.colab.kernel.invokeFunction(\n",
              "            'suggestCharts', [key], {});\n",
              "      } catch (error) {\n",
              "        console.error('Error during call to suggestCharts:', error);\n",
              "      }\n",
              "      quickchartButtonEl.classList.remove('colab-df-spinner');\n",
              "      quickchartButtonEl.classList.add('colab-df-quickchart-complete');\n",
              "    }\n",
              "    (() => {\n",
              "      let quickchartButtonEl =\n",
              "        document.querySelector('#df-65939b60-56f8-41f8-8936-59c444f2b338 button');\n",
              "      quickchartButtonEl.style.display =\n",
              "        google.colab.kernel.accessAllowed ? 'block' : 'none';\n",
              "    })();\n",
              "  </script>\n",
              "</div>\n",
              "\n",
              "    </div>\n",
              "  </div>\n"
            ],
            "application/vnd.google.colaboratory.intrinsic+json": {
              "type": "dataframe",
              "summary": "{\n  \"name\": \"              'Probabilidad' : predicciones\",\n  \"rows\": 9,\n  \"fields\": [\n    {\n      \"column\": \"Producto\",\n      \"properties\": {\n        \"dtype\": \"string\",\n        \"num_unique_values\": 9,\n        \"samples\": [\n          \"Yogur de soja\",\n          \"Leche\",\n          \"Leche agria\"\n        ],\n        \"semantic_type\": \"\",\n        \"description\": \"\"\n      }\n    },\n    {\n      \"column\": \"Probabilidad\",\n      \"properties\": {\n        \"dtype\": \"float32\",\n        \"num_unique_values\": 9,\n        \"samples\": [\n          1.2999917089473456e-06,\n          0.9953144788742065,\n          8.790811989456415e-08\n        ],\n        \"semantic_type\": \"\",\n        \"description\": \"\"\n      }\n    }\n  ]\n}"
            }
          },
          "metadata": {},
          "execution_count": 50
        }
      ]
    },
    {
      "cell_type": "markdown",
      "source": [
        "## Despliegue del aplicativo para la predicción de imágenes nuevas"
      ],
      "metadata": {
        "id": "OZBf1narQxyF"
      }
    },
    {
      "cell_type": "code",
      "source": [
        "!pip install -q streamlit\n",
        "!npm install -g localtunnel"
      ],
      "metadata": {
        "colab": {
          "base_uri": "https://localhost:8080/"
        },
        "id": "YHD9g8gNE192",
        "outputId": "314227d9-b81d-4887-9a1b-478aa2b34caf"
      },
      "execution_count": 32,
      "outputs": [
        {
          "output_type": "stream",
          "name": "stdout",
          "text": [
            "\u001b[1G\u001b[0K⠙\u001b[1G\u001b[0K⠹\u001b[1G\u001b[0K⠸\u001b[1G\u001b[0K⠼\u001b[1G\u001b[0K⠴\u001b[1G\u001b[0K⠦\u001b[1G\u001b[0K⠧\u001b[1G\u001b[0K⠇\u001b[1G\u001b[0K⠏\u001b[1G\u001b[0K⠋\u001b[1G\u001b[0K⠙\u001b[1G\u001b[0K⠹\u001b[1G\u001b[0K⠸\u001b[1G\u001b[0K⠼\u001b[1G\u001b[0K⠴\u001b[1G\u001b[0K⠦\u001b[1G\u001b[0K⠧\u001b[1G\u001b[0K⠇\u001b[1G\u001b[0K⠏\u001b[1G\u001b[0K⠋\u001b[1G\u001b[0K⠙\u001b[1G\u001b[0K⠹\u001b[1G\u001b[0K⠸\u001b[1G\u001b[0K⠼\u001b[1G\u001b[0K⠴\u001b[1G\u001b[0K⠦\u001b[1G\u001b[0K⠧\u001b[1G\u001b[0K\n",
            "added 22 packages in 3s\n",
            "\u001b[1G\u001b[0K⠧\u001b[1G\u001b[0K\n",
            "\u001b[1G\u001b[0K⠧\u001b[1G\u001b[0K3 packages are looking for funding\n",
            "\u001b[1G\u001b[0K⠧\u001b[1G\u001b[0K  run `npm fund` for details\n",
            "\u001b[1G\u001b[0K⠧\u001b[1G\u001b[0K"
          ]
        }
      ]
    },
    {
      "cell_type": "code",
      "source": [
        "!streamlit run app.py &>/content/logs.txt & npx localtunnel --port 8501"
      ],
      "metadata": {
        "colab": {
          "base_uri": "https://localhost:8080/"
        },
        "id": "wpRiqguwFgjC",
        "outputId": "c47b95fc-08e0-4598-ad89-5649b02a8f1b"
      },
      "execution_count": 37,
      "outputs": [
        {
          "output_type": "stream",
          "name": "stdout",
          "text": [
            "\u001b[1G\u001b[0K⠙\u001b[1G\u001b[0K⠹\u001b[1G\u001b[0K⠸\u001b[1G\u001b[0K⠼\u001b[1G\u001b[0K⠴\u001b[1G\u001b[0K⠦\u001b[1G\u001b[0K⠧\u001b[1G\u001b[0K⠇\u001b[1G\u001b[0K⠏\u001b[1G\u001b[0Kyour url is: https://tangy-actors-worry.loca.lt\n",
            "^C\n"
          ]
        }
      ]
    }
  ]
}